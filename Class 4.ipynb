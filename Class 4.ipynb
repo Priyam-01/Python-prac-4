{
 "cells": [
  {
   "cell_type": "code",
   "execution_count": 1,
   "id": "2b2ce39c",
   "metadata": {},
   "outputs": [],
   "source": [
    "# # get type and instance\n",
    "# a=123 # get type and instance\n",
    "# b=\"123\"\n",
    "# c = 123.0"
   ]
  },
  {
   "cell_type": "code",
   "execution_count": 5,
   "id": "465069bc",
   "metadata": {},
   "outputs": [
    {
     "name": "stdout",
     "output_type": "stream",
     "text": [
      "True\n"
     ]
    }
   ],
   "source": [
    "a = 123\n",
    "print(isinstance(a, int))"
   ]
  },
  {
   "cell_type": "code",
   "execution_count": 7,
   "id": "c2edd8ba",
   "metadata": {},
   "outputs": [
    {
     "name": "stdout",
     "output_type": "stream",
     "text": [
      "True\n"
     ]
    }
   ],
   "source": [
    "b=\"123\"\n",
    "print(isinstance(b, str))"
   ]
  },
  {
   "cell_type": "code",
   "execution_count": 9,
   "id": "7096e6d4",
   "metadata": {},
   "outputs": [
    {
     "name": "stdout",
     "output_type": "stream",
     "text": [
      "True\n"
     ]
    }
   ],
   "source": [
    "c=123.0\n",
    "print(isinstance(c, float))"
   ]
  },
  {
   "cell_type": "code",
   "execution_count": 10,
   "id": "e90702c2",
   "metadata": {},
   "outputs": [
    {
     "name": "stdout",
     "output_type": "stream",
     "text": [
      "<class 'int'>\n"
     ]
    }
   ],
   "source": [
    "e = int(b)\n",
    "print(type(e))"
   ]
  },
  {
   "cell_type": "code",
   "execution_count": 12,
   "id": "1c801f96",
   "metadata": {},
   "outputs": [
    {
     "ename": "ValueError",
     "evalue": "invalid literal for int() with base 10: 'demo'",
     "output_type": "error",
     "traceback": [
      "\u001b[1;31m---------------------------------------------------------------------------\u001b[0m",
      "\u001b[1;31mValueError\u001b[0m                                Traceback (most recent call last)",
      "Cell \u001b[1;32mIn[12], line 2\u001b[0m\n\u001b[0;32m      1\u001b[0m a \u001b[38;5;241m=\u001b[39m\u001b[38;5;124m\"\u001b[39m\u001b[38;5;124mdemo\u001b[39m\u001b[38;5;124m\"\u001b[39m\n\u001b[1;32m----> 2\u001b[0m b \u001b[38;5;241m=\u001b[39m \u001b[38;5;28mint\u001b[39m(a)\n",
      "\u001b[1;31mValueError\u001b[0m: invalid literal for int() with base 10: 'demo'"
     ]
    }
   ],
   "source": [
    "a =\"demo\"\n",
    "b = int(a)"
   ]
  },
  {
   "cell_type": "code",
   "execution_count": 13,
   "id": "dbfda46d",
   "metadata": {},
   "outputs": [],
   "source": [
    "###\n",
    "name = \"arun\"\n",
    "age = 32\n",
    "location =\"mumbai\""
   ]
  },
  {
   "cell_type": "code",
   "execution_count": 14,
   "id": "157a2c2f",
   "metadata": {},
   "outputs": [],
   "source": [
    "name1 = \"kumar\"\n",
    "age1 = 25\n",
    "location =\"delhi\""
   ]
  },
  {
   "cell_type": "code",
   "execution_count": 15,
   "id": "ffb5c315",
   "metadata": {},
   "outputs": [],
   "source": [
    "a = [[\"arun\",\"32\", \"mumbai\"],[\"kumar\", \"25\", \"delhi\"]]"
   ]
  },
  {
   "cell_type": "code",
   "execution_count": 16,
   "id": "13e46094",
   "metadata": {},
   "outputs": [],
   "source": [
    "#type, isinstance, min, max, sorted"
   ]
  },
  {
   "cell_type": "code",
   "execution_count": 22,
   "id": "e7187c04",
   "metadata": {},
   "outputs": [
    {
     "name": "stdout",
     "output_type": "stream",
     "text": [
      "True\n",
      "['arun', '32', 'mumbai']\n",
      "['kumar', '25', 'delhi']\n",
      "[['arun', '32', 'mumbai'], ['kumar', '25', 'delhi']]\n"
     ]
    }
   ],
   "source": [
    "print(isinstance(a, list))\n",
    "print(min(a))\n",
    "print(max(a))\n",
    "print(sorted(a))"
   ]
  },
  {
   "cell_type": "code",
   "execution_count": 23,
   "id": "092e6bd3",
   "metadata": {},
   "outputs": [
    {
     "name": "stdout",
     "output_type": "stream",
     "text": [
      "<class 'list'>\n"
     ]
    }
   ],
   "source": [
    "print(type(a))"
   ]
  },
  {
   "cell_type": "code",
   "execution_count": 24,
   "id": "3ae5cc11",
   "metadata": {},
   "outputs": [
    {
     "name": "stdout",
     "output_type": "stream",
     "text": [
      "['arun', '32', 'mumbai']\n"
     ]
    }
   ],
   "source": [
    "print(a[0])"
   ]
  },
  {
   "cell_type": "code",
   "execution_count": 25,
   "id": "59613878",
   "metadata": {},
   "outputs": [
    {
     "name": "stdout",
     "output_type": "stream",
     "text": [
      "arun\n"
     ]
    }
   ],
   "source": [
    "a = ['arun', '32', 'mumbai']\n",
    "print(a[0])"
   ]
  },
  {
   "cell_type": "code",
   "execution_count": 26,
   "id": "43d29247",
   "metadata": {},
   "outputs": [
    {
     "name": "stdout",
     "output_type": "stream",
     "text": [
      "['32', 'arun', 'mumbai']\n"
     ]
    }
   ],
   "source": [
    "print(sorted(a))"
   ]
  },
  {
   "cell_type": "code",
   "execution_count": 28,
   "id": "b74c6fe5",
   "metadata": {},
   "outputs": [
    {
     "ename": "TypeError",
     "evalue": "'<' not supported between instances of 'int' and 'str'",
     "output_type": "error",
     "traceback": [
      "\u001b[1;31m---------------------------------------------------------------------------\u001b[0m",
      "\u001b[1;31mTypeError\u001b[0m                                 Traceback (most recent call last)",
      "Cell \u001b[1;32mIn[28], line 2\u001b[0m\n\u001b[0;32m      1\u001b[0m a \u001b[38;5;241m=\u001b[39m [\u001b[38;5;124m'\u001b[39m\u001b[38;5;124marun\u001b[39m\u001b[38;5;124m'\u001b[39m, \u001b[38;5;241m32\u001b[39m, \u001b[38;5;124m'\u001b[39m\u001b[38;5;124mmumbai\u001b[39m\u001b[38;5;124m'\u001b[39m]\n\u001b[1;32m----> 2\u001b[0m \u001b[38;5;28mprint\u001b[39m(\u001b[38;5;28msorted\u001b[39m(a))\n",
      "\u001b[1;31mTypeError\u001b[0m: '<' not supported between instances of 'int' and 'str'"
     ]
    }
   ],
   "source": [
    "a = ['arun', 32, 'mumbai']\n",
    "print(sorted(a))"
   ]
  },
  {
   "cell_type": "code",
   "execution_count": 29,
   "id": "1846ffc7",
   "metadata": {},
   "outputs": [
    {
     "name": "stdout",
     "output_type": "stream",
     "text": [
      "mumbai\n"
     ]
    }
   ],
   "source": [
    "print(a[-1])"
   ]
  },
  {
   "cell_type": "code",
   "execution_count": 30,
   "id": "8c114d11",
   "metadata": {},
   "outputs": [
    {
     "name": "stdout",
     "output_type": "stream",
     "text": [
      "['mumbai', 32, 'arun']\n"
     ]
    }
   ],
   "source": [
    "print(a[::-1])"
   ]
  },
  {
   "cell_type": "code",
   "execution_count": 31,
   "id": "a4d1bf8e",
   "metadata": {},
   "outputs": [],
   "source": [
    "a = [1,2,3,4,5, \"hello\", 10]"
   ]
  },
  {
   "cell_type": "code",
   "execution_count": 32,
   "id": "70db9fe5",
   "metadata": {},
   "outputs": [
    {
     "name": "stdout",
     "output_type": "stream",
     "text": [
      "[1, 2, 3, 4, 5, 'hello', 10]\n"
     ]
    }
   ],
   "source": [
    "print(a)"
   ]
  },
  {
   "cell_type": "code",
   "execution_count": 68,
   "id": "fa7f343a",
   "metadata": {},
   "outputs": [
    {
     "name": "stdout",
     "output_type": "stream",
     "text": [
      "['arun', 'kumar', 'welcome', 'kishore', 30]\n"
     ]
    }
   ],
   "source": [
    "a.append(30)\n",
    "print(a)"
   ]
  },
  {
   "cell_type": "code",
   "execution_count": 67,
   "id": "36afaf82",
   "metadata": {},
   "outputs": [
    {
     "name": "stdout",
     "output_type": "stream",
     "text": [
      "['arun', 'kumar', 'welcome', 'kishore']\n"
     ]
    }
   ],
   "source": [
    "a.insert(2, \"welcome\")\n",
    "print(a)"
   ]
  },
  {
   "cell_type": "code",
   "execution_count": 38,
   "id": "a6511fa1",
   "metadata": {},
   "outputs": [
    {
     "name": "stdout",
     "output_type": "stream",
     "text": [
      "[1, 2, 'welcome', 3, 4, 5, 'hello', 10, 30]\n"
     ]
    }
   ],
   "source": [
    "a.remove(\"hi\")\n",
    "print(a)"
   ]
  },
  {
   "cell_type": "code",
   "execution_count": 40,
   "id": "8e56c0e9",
   "metadata": {},
   "outputs": [
    {
     "name": "stdout",
     "output_type": "stream",
     "text": [
      "['welcome', 3, 4, 5, 'hello', 10, 30]\n"
     ]
    }
   ],
   "source": [
    "del a[0]\n",
    "print(a)"
   ]
  },
  {
   "cell_type": "code",
   "execution_count": 41,
   "id": "d0a45fd9",
   "metadata": {},
   "outputs": [
    {
     "name": "stdout",
     "output_type": "stream",
     "text": [
      "['Hello', 'welcome', 3, 4, 5, 'hello', 10, 30]\n"
     ]
    }
   ],
   "source": [
    "a.insert(0,\"Hello\")\n",
    "print(a)"
   ]
  },
  {
   "cell_type": "code",
   "execution_count": 43,
   "id": "d33a67e2",
   "metadata": {},
   "outputs": [
    {
     "name": "stdout",
     "output_type": "stream",
     "text": [
      "['Hello', 'welcome', 3, 4, 5, 'hello']\n",
      "10\n"
     ]
    }
   ],
   "source": [
    "b= a.pop()\n",
    "print(a)\n",
    "print(b)"
   ]
  },
  {
   "cell_type": "code",
   "execution_count": 44,
   "id": "97d42097",
   "metadata": {},
   "outputs": [
    {
     "name": "stdout",
     "output_type": "stream",
     "text": [
      "['Hello', 'welcome', 3, 4, 5, 'hello']\n",
      "['Hello', 'welcome', 3, 5, 'hello']\n",
      "4\n"
     ]
    }
   ],
   "source": [
    "print(a)\n",
    "b = a.pop(3)\n",
    "print(a)\n",
    "print(b)"
   ]
  },
  {
   "cell_type": "markdown",
   "id": "6d367722",
   "metadata": {},
   "source": [
    "# Assignment\n",
    "\n",
    "a = [\"arun\", \"kumar\" , \"kishore\"]\n",
    "\n",
    "#get first list first word - a\n",
    "\n",
    "#get first list last word - n\n",
    "\n",
    "#get last last first word - k\n",
    "\n",
    "#get last list last word  - e\n",
    "\n",
    "xxxxxxxxxxxx\n",
    "\n",
    "#also get list as input from user and check the data types"
   ]
  },
  {
   "cell_type": "code",
   "execution_count": 54,
   "id": "4125b77e",
   "metadata": {},
   "outputs": [
    {
     "name": "stdout",
     "output_type": "stream",
     "text": [
      "a\n",
      "n\n",
      "k\n",
      "e\n"
     ]
    }
   ],
   "source": [
    "a =[\"arun\", \"kumar\", \"kishore\"]\n",
    "print(a[0][0])\n",
    "print(a[0][-1])\n",
    "print(a[-1][0])\n",
    "print(a[-1][-1])"
   ]
  },
  {
   "cell_type": "code",
   "execution_count": 66,
   "id": "d699252d",
   "metadata": {},
   "outputs": [
    {
     "name": "stdout",
     "output_type": "stream",
     "text": [
      "Enter the elements with spaces: 45 56 78.89 Hello Python\n",
      "['45', '56', '78.89', 'Hello', 'Python']\n",
      "<class 'list'>\n",
      "<class 'str'>\n",
      "<class 'str'>\n",
      "<class 'str'>\n",
      "<class 'str'>\n",
      "<class 'str'>\n"
     ]
    }
   ],
   "source": [
    "user_input1 = input(\"Enter the elements with spaces: \").split()\n",
    "\n",
    "print(user_input1)\n",
    "print(type(user_input1))\n",
    "print(type(user_input1[0]))\n",
    "print(type(user_input1[1]))\n",
    "print(type(user_input1[2]))\n",
    "print(type(user_input1[3]))\n",
    "print(type(user_input1[4]))\n"
   ]
  },
  {
   "cell_type": "code",
   "execution_count": null,
   "id": "58809a8b",
   "metadata": {},
   "outputs": [],
   "source": []
  }
 ],
 "metadata": {
  "kernelspec": {
   "display_name": "Python 3 (ipykernel)",
   "language": "python",
   "name": "python3"
  },
  "language_info": {
   "codemirror_mode": {
    "name": "ipython",
    "version": 3
   },
   "file_extension": ".py",
   "mimetype": "text/x-python",
   "name": "python",
   "nbconvert_exporter": "python",
   "pygments_lexer": "ipython3",
   "version": "3.11.5"
  }
 },
 "nbformat": 4,
 "nbformat_minor": 5
}
